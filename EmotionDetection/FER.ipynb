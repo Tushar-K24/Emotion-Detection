{
 "cells": [
  {
   "cell_type": "code",
   "execution_count": 1,
   "id": "5de64747",
   "metadata": {},
   "outputs": [],
   "source": [
    "import os\n",
    "import numpy as np\n",
    "import cv2\n",
    "\n",
    "from keras import backend as K\n",
    "from keras.layers import Layer, Input, Conv2D, MaxPooling2D\n",
    "import tensorflow as tf"
   ]
  },
  {
   "cell_type": "code",
   "execution_count": 2,
   "id": "b6454994",
   "metadata": {},
   "outputs": [
    {
     "data": {
      "text/plain": [
       "{'name': 'base',\n",
       " 'trainable': True,\n",
       " 'dtype': 'float32',\n",
       " 'base': 'VGG16',\n",
       " 'channels': 3}"
      ]
     },
     "execution_count": 2,
     "metadata": {},
     "output_type": "execute_result"
    }
   ],
   "source": [
    "#base_model.\n",
    "import base_model\n",
    "base = base_model.Base()\n",
    "fmap = base.get_fmap()\n",
    "base.get_config()"
   ]
  },
  {
   "cell_type": "code",
   "execution_count": 10,
   "id": "8ba95af6",
   "metadata": {},
   "outputs": [],
   "source": [
    "def get_fmap(input_tensor=None, trainable=False):\n",
    "        '''\n",
    "        get_model() \n",
    "            Transforms the input tensor to a feature map using a fully CNN architecture\n",
    "\n",
    "            By Default, VGG16 is selected as the base model. If needed, change the architecture \n",
    "            of the base model in base_mode.py.\n",
    "\n",
    "        Arguments\n",
    "            input_tensor:\n",
    "                Input Image to be feeded into the CNN of shape (x,y,num_channels)\n",
    "                Default = None\n",
    "\n",
    "            trainable: bool\n",
    "                True: Model is trainable\n",
    "                False: Model is non-trainable\n",
    "\n",
    "        Output: Feature Map\n",
    "        '''\n",
    "        \n",
    "        #if input_tensor is None\n",
    "        if input_tensor==None:\n",
    "            input_shape = (None, None, 3)\n",
    "            input_tensor = Input(shape = input_shape)\n",
    "        \n",
    "        if not K.is_keras_tensor(input_tensor): #Converting input_tensor to appropriate dtype\n",
    "            input_img = Input(tensor = input_tensor)\n",
    "        else:\n",
    "            input_img = input_tensor\n",
    "\n",
    "        #Block 1\n",
    "        fmap = Conv2D(64, (3,3), activation='relu', padding='same', name='block1_conv1')(input_img)\n",
    "        fmap = Conv2D(64, (3,3), activation='relu', padding='same', name='block1_conv2')(fmap)\n",
    "        fmap = MaxPooling2D((2,2), strides=(2,2), name='block1_pool')(fmap)\n",
    "\n",
    "        #Block 2\n",
    "        fmap = Conv2D(128, (3,3), activation='relu', padding='same', name='block2_conv1')(fmap)\n",
    "        fmap = Conv2D(128, (3,3), activation='relu', padding='same', name='block2_conv2')(fmap)\n",
    "        fmap = MaxPooling2D((2,2), strides=(2,2), name='block2_pool')(fmap)\n",
    "\n",
    "        #Block 3\n",
    "        fmap = Conv2D(256, (3,3), activation='relu', padding='same', name='block3_conv1')(fmap)\n",
    "        fmap = Conv2D(256, (3,3), activation='relu', padding='same', name='block3_conv2')(fmap)\n",
    "        fmap = Conv2D(256, (3,3), activation='relu', padding='same', name='block3_conv3')(fmap)\n",
    "        fmap = MaxPooling2D((2,2), strides=(2,2), name='block3_pool')(fmap)\n",
    "\n",
    "        #Block 4\n",
    "        fmap = Conv2D(512, (3,3), activation='relu', padding='same', name='block4_conv1')(fmap)\n",
    "        fmap = Conv2D(512, (3,3), activation='relu', padding='same', name='block4_conv2')(fmap)\n",
    "        fmap = Conv2D(512, (3,3), activation='relu', padding='same', name='block4_conv3')(fmap)\n",
    "        fmap = MaxPooling2D((2,2), strides=(2,2), name='block4_pool')(fmap)\n",
    "\n",
    "        #Block 5\n",
    "        fmap = Conv2D(512, (3,3), activation='relu', padding='same', name='block5_conv1')(fmap)\n",
    "        fmap = Conv2D(512, (3,3), activation='relu', padding='same', name='block5_conv2')(fmap)\n",
    "        fmap = Conv2D(512, (3,3), activation='relu', padding='same', name='block5_conv3')(fmap)\n",
    "        #We won't consider the last pooling layer\n",
    "        #fmap = MaxPooling2D((2,2), strides=(2,2), name='block5_pool')(fmap) \n",
    "\n",
    "        return fmap\n"
   ]
  },
  {
   "cell_type": "code",
   "execution_count": 11,
   "id": "b3e40109",
   "metadata": {},
   "outputs": [
    {
     "ename": "TypeError",
     "evalue": "get_fmap() missing 1 required positional argument: 'self'",
     "output_type": "error",
     "traceback": [
      "\u001b[1;31m---------------------------------------------------------------------------\u001b[0m",
      "\u001b[1;31mTypeError\u001b[0m                                 Traceback (most recent call last)",
      "\u001b[1;32m~\\AppData\\Local\\Temp/ipykernel_16452/2257072565.py\u001b[0m in \u001b[0;36m<module>\u001b[1;34m\u001b[0m\n\u001b[1;32m----> 1\u001b[1;33m \u001b[0mget_fmap\u001b[0m\u001b[1;33m(\u001b[0m\u001b[1;33m)\u001b[0m\u001b[1;33m\u001b[0m\u001b[1;33m\u001b[0m\u001b[0m\n\u001b[0m",
      "\u001b[1;31mTypeError\u001b[0m: get_fmap() missing 1 required positional argument: 'self'"
     ]
    }
   ],
   "source": [
    "get_fmap()"
   ]
  },
  {
   "cell_type": "code",
   "execution_count": null,
   "id": "dba769b1",
   "metadata": {},
   "outputs": [],
   "source": []
  }
 ],
 "metadata": {
  "kernelspec": {
   "display_name": "Python 3 (ipykernel)",
   "language": "python",
   "name": "python3"
  },
  "language_info": {
   "codemirror_mode": {
    "name": "ipython",
    "version": 3
   },
   "file_extension": ".py",
   "mimetype": "text/x-python",
   "name": "python",
   "nbconvert_exporter": "python",
   "pygments_lexer": "ipython3",
   "version": "3.7.11"
  }
 },
 "nbformat": 4,
 "nbformat_minor": 5
}
