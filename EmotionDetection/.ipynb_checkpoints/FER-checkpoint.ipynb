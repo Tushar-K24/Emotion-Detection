{
 "cells": [
  {
   "cell_type": "code",
   "execution_count": 1,
   "id": "5de64747",
   "metadata": {},
   "outputs": [],
   "source": [
    "import os\n",
    "import numpy as np\n",
    "import cv2\n",
    "\n",
    "from keras import backend as K\n",
    "from keras.layers import Layer, Input, Conv2D, MaxPooling2D\n",
    "import tensorflow as tf"
   ]
  },
  {
   "cell_type": "code",
   "execution_count": 2,
   "id": "b6454994",
   "metadata": {},
   "outputs": [
    {
     "data": {
      "text/plain": [
       "{'name': 'base',\n",
       " 'trainable': True,\n",
       " 'dtype': 'float32',\n",
       " 'base': 'VGG16',\n",
       " 'channels': 3,\n",
       " 'input_shape': TensorShape([None, None, None, 3])}"
      ]
     },
     "execution_count": 2,
     "metadata": {},
     "output_type": "execute_result"
    }
   ],
   "source": [
    "#base_model test\n",
    "import base_model\n",
    "base = base_model.Base()\n",
    "fmap = base.get_fmap()\n",
    "base.get_config()"
   ]
  },
  {
   "cell_type": "code",
   "execution_count": 8,
   "id": "dba769b1",
   "metadata": {},
   "outputs": [
    {
     "data": {
      "text/plain": [
       "{'name': 'ro_i_pooling_layer_3',\n",
       " 'trainable': True,\n",
       " 'dtype': 'float32',\n",
       " 'pool_size': 7,\n",
       " 'num_rois': 1}"
      ]
     },
     "execution_count": 8,
     "metadata": {},
     "output_type": "execute_result"
    }
   ],
   "source": [
    "#pooling test\n",
    "import roi_pooling\n",
    "\n",
    "#test pool.call after the rois are generated\n",
    "pool = roi_pooling.RoIPoolingLayer(pool_size = 7, num_rois = 1)\n",
    "pool.get_config()"
   ]
  },
  {
   "cell_type": "code",
   "execution_count": null,
   "id": "0f990058",
   "metadata": {},
   "outputs": [],
   "source": []
  }
 ],
 "metadata": {
  "kernelspec": {
   "display_name": "Python 3 (ipykernel)",
   "language": "python",
   "name": "python3"
  },
  "language_info": {
   "codemirror_mode": {
    "name": "ipython",
    "version": 3
   },
   "file_extension": ".py",
   "mimetype": "text/x-python",
   "name": "python",
   "nbconvert_exporter": "python",
   "pygments_lexer": "ipython3",
   "version": "3.7.11"
  }
 },
 "nbformat": 4,
 "nbformat_minor": 5
}
